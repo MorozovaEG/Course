{
 "cells": [
  {
   "cell_type": "markdown",
   "metadata": {
    "id": "QY4qPJPpgyIS"
   },
   "source": [
    "# Домашнее задание: декораторы"
   ]
  },
  {
   "cell_type": "markdown",
   "metadata": {
    "id": "Chacc6YchldZ"
   },
   "source": [
    "## Импорт библиотек, установка констант"
   ]
  },
  {
   "cell_type": "code",
   "execution_count": 1,
   "metadata": {
    "id": "w8iKrWvwhrFd"
   },
   "outputs": [],
   "source": [
    "import requests\n",
    "import time\n",
    "import re\n",
    "\n",
    "from random import randint"
   ]
  },
  {
   "cell_type": "code",
   "execution_count": 2,
   "metadata": {
    "id": "-LRkS0fSi8Np"
   },
   "outputs": [],
   "source": [
    "BOOK_PATH = 'https://www.gutenberg.org/files/2638/2638-0.txt'"
   ]
  },
  {
   "cell_type": "markdown",
   "metadata": {
    "id": "kARfL8ifg4MH"
   },
   "source": [
    "## Задание 1"
   ]
  },
  {
   "cell_type": "code",
   "execution_count": 3,
   "metadata": {
    "id": "hNHNWPhngrUl"
   },
   "outputs": [],
   "source": [
    "def benchmark(func):\n",
    "    \"\"\"\n",
    "    Декоратор, выводящий время, которое заняло выполнение декорируемой функции\n",
    "    \"\"\"\n",
    "\n",
    "    def wrapper(*args, **kwargs):\n",
    "      t1 = time.time()\n",
    "      func(*args, **kwargs)\n",
    "      t2 = time.time()\n",
    "      print(\"Время исполнения - \", t2 - t1)\n",
    "      return func(*args, **kwargs)\n",
    "\n",
    "    return wrapper"
   ]
  },
  {
   "cell_type": "markdown",
   "metadata": {
    "id": "tGlbUKjihL5n"
   },
   "source": [
    "## Задание 2"
   ]
  },
  {
   "cell_type": "code",
   "execution_count": 4,
   "metadata": {
    "id": "wugOZDLqhNe-"
   },
   "outputs": [],
   "source": [
    "def logging(func):\n",
    "    \"\"\"\n",
    "    Декоратор, который выводит параметры с которыми была вызвана функция\n",
    "    \"\"\"\n",
    "\n",
    "    def wrapper(*args, **kwargs):\n",
    "      k = args\n",
    "      t = kwargs\n",
    "      print(f\"Функция вызвана с параметрами: {k},{t}\")\n",
    "      return func(*args, **kwargs)\n",
    "    return wrapper"
   ]
  },
  {
   "cell_type": "markdown",
   "metadata": {
    "id": "Sq1tv5fshTfv"
   },
   "source": [
    "## Задание 3"
   ]
  },
  {
   "cell_type": "code",
   "execution_count": 5,
   "metadata": {
    "id": "9nyvuxXkhVeb"
   },
   "outputs": [],
   "source": [
    "def counter(func):\n",
    "    \"\"\"\n",
    "    Декоратор, считающий и выводящий количество вызовов декорируемой функции\n",
    "    \"\"\"\n",
    "\n",
    "    def wrapper(*args, **kwargs):\n",
    "      global countl\n",
    "      countl = countl + 1\n",
    "      print(\"Функция вызвана \", countl, \"раз\")\n",
    "      return func(*args, **kwargs)\n",
    "\n",
    "    return wrapper"
   ]
  },
  {
   "cell_type": "markdown",
   "metadata": {
    "id": "uHn8Adfshz5q"
   },
   "source": [
    "## Задание 4"
   ]
  },
  {
   "cell_type": "code",
   "execution_count": 6,
   "metadata": {
    "id": "R7uu6WtGifNX"
   },
   "outputs": [],
   "source": [
    "def memo(func):\n",
    "  \"\"\"\n",
    "  Декоратор, запоминающий результаты исполнения функции func, чьи аргументы args должны быть хешируемыми\n",
    "  \"\"\"\n",
    "  cache = {}\n",
    "\n",
    "  def fmemo(*args):\n",
    "    if args not in cache:\n",
    "      cache[args] = func(*args)\n",
    "    return cache[args]\n",
    "\n",
    "  fmemo.cache = cache\n",
    "  return fmemo"
   ]
  },
  {
   "cell_type": "markdown",
   "metadata": {
    "id": "Zn5UQCa_izxo"
   },
   "source": [
    "## Тестирование"
   ]
  },
  {
   "cell_type": "code",
   "execution_count": 37,
   "metadata": {
    "colab": {
     "base_uri": "https://localhost:8080/"
    },
    "id": "CHCJ64I8i2QB",
    "outputId": "8b68d629-4cad-4232-da2c-787689c56d34"
   },
   "outputs": [
    {
     "name": "stdout",
     "output_type": "stream",
     "text": [
      "Функция вызвана  1 раз\n",
      "Функция вызвана с параметрами: ('whole',),{}\n",
      "Время исполнения -  2.684621810913086\n",
      "Cлово whole встречается 176 раз\n"
     ]
    }
   ],
   "source": [
    "countl=0\n",
    "@counter\n",
    "@logging\n",
    "@benchmark\n",
    "def word_count(word, url=BOOK_PATH):\n",
    "    \"\"\"\n",
    "    Функция для посчета указанного слова на html-странице\n",
    "    \"\"\"\n",
    "\n",
    "    # отправляем запрос в библиотеку Gutenberg и забираем текст\n",
    "    raw = requests.get(url).text\n",
    "\n",
    "    # заменяем в тексте все небуквенные символы на пробелы\n",
    "    processed_book = re.sub('[\\W]+' , ' ', raw).lower()\n",
    "\n",
    "    # считаем\n",
    "    cnt = len(re.findall(word.lower(), processed_book))\n",
    "\n",
    "    return f\"Cлово {word} встречается {cnt} раз\"\n",
    "\n",
    "print(word_count('whole'))"
   ]
  },
  {
   "cell_type": "code",
   "execution_count": 38,
   "metadata": {
    "id": "ZE4Rfn-hh3k3"
   },
   "outputs": [],
   "source": [
    "def fib(n):\n",
    "    if n < 2:\n",
    "        return n\n",
    "    return fib(n-2) + fib(n-1)"
   ]
  },
  {
   "cell_type": "code",
   "execution_count": 41,
   "metadata": {
    "colab": {
     "base_uri": "https://localhost:8080/"
    },
    "id": "Io94NyjiiXG4",
    "outputId": "891c2046-3a32-4a0a-e2fd-447f3845bd77"
   },
   "outputs": [
    {
     "name": "stdout",
     "output_type": "stream",
     "text": [
      "9227465 1750.3535747528076\n"
     ]
    }
   ],
   "source": [
    "# Измеряем время выполнения\n",
    "t1=time.time()\n",
    "s=fib(35)\n",
    "t2=time.time()\n",
    "print(s,(t2-t1)*1000)"
   ]
  },
  {
   "cell_type": "code",
   "execution_count": 42,
   "metadata": {
    "id": "W9B3e-t9iTUj"
   },
   "outputs": [],
   "source": [
    "@memo\n",
    "def fib(n):\n",
    "    if n < 2:\n",
    "        return n\n",
    "    return fib(n-2) + fib(n-1)"
   ]
  },
  {
   "cell_type": "code",
   "execution_count": 46,
   "metadata": {
    "colab": {
     "base_uri": "https://localhost:8080/"
    },
    "id": "Sk6_4KQaidkh",
    "outputId": "28b38324-74a5-4135-9741-d9cc9f322669"
   },
   "outputs": [
    {
     "name": "stdout",
     "output_type": "stream",
     "text": [
      "9227465 0.0\n"
     ]
    }
   ],
   "source": [
    "# измеряем время выполнения\n",
    "t1=time.time()\n",
    "s=fib(35)\n",
    "t2=time.time()\n",
    "print(s,(t2-t1)*1000)"
   ]
  },
  {
   "cell_type": "code",
   "execution_count": null,
   "metadata": {},
   "outputs": [],
   "source": []
  }
 ],
 "metadata": {
  "colab": {
   "provenance": []
  },
  "kernelspec": {
   "display_name": "Python 3 (ipykernel)",
   "language": "python",
   "name": "python3"
  },
  "language_info": {
   "codemirror_mode": {
    "name": "ipython",
    "version": 3
   },
   "file_extension": ".py",
   "mimetype": "text/x-python",
   "name": "python",
   "nbconvert_exporter": "python",
   "pygments_lexer": "ipython3",
   "version": "3.11.5"
  }
 },
 "nbformat": 4,
 "nbformat_minor": 1
}
